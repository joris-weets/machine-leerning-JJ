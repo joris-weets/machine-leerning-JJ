{
 "cells": [
  {
   "cell_type": "code",
   "execution_count": 1,
   "id": "6365bea2",
   "metadata": {},
   "outputs": [],
   "source": [
    "import matplotlib\n",
    "import scipy.io\n",
    "import numpy as np\n",
    "import random\n",
    "import plotly.express as px\n",
    "from matplotlib import pyplot as plt\n",
    "import sklearn\n",
    "try:\n",
    "    import seaborn as sns\n",
    "    use_seaborn = True\n",
    "    sns.set()\n",
    "except:\n",
    "    use_seaborn = False"
   ]
  },
  {
   "cell_type": "code",
   "execution_count": null,
   "id": "824db090",
   "metadata": {},
   "outputs": [],
   "source": []
  }
 ],
 "metadata": {
  "kernelspec": {
   "display_name": "Python 3",
   "language": "python",
   "name": "python3"
  },
  "language_info": {
   "codemirror_mode": {
    "name": "ipython",
    "version": 3
   },
   "file_extension": ".py",
   "mimetype": "text/x-python",
   "name": "python",
   "nbconvert_exporter": "python",
   "pygments_lexer": "ipython3",
   "version": "3.12.7"
  }
 },
 "nbformat": 4,
 "nbformat_minor": 5
}
