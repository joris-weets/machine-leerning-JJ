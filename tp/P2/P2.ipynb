{
 "cells": [
  {
   "cell_type": "markdown",
   "metadata": {},
   "source": [
    "# [LELEC2870] - Machine Learning\n",
    "\n",
    "## Practical Session 2 - Model selection \n",
    "\n",
    "Prof. Michel Verleysen<br>\n",
    "Prof. John Lee<br>\n",
    "\n",
    "**Teaching assistants :**  \n",
    "Edouard Couplet : edouard.couplet@uclouvain.be  <br>\n",
    "Audrey Vermeulen: audrey.vermeulen@uclouvain.be<br>\n",
    "Maxime Zanella: maxime.zanella@uclouvain.be<br>"
   ]
  },
  {
   "cell_type": "code",
   "execution_count": 2,
   "metadata": {},
   "outputs": [],
   "source": [
    "import pandas as pd\n",
    "import matplotlib.pyplot as plt\n",
    "import numpy as np\n",
    "\n",
    "## uncomment if you want to ignore warnings\n",
    "#import warnings\n",
    "#warnings.filterwarnings('ignore')"
   ]
  },
  {
   "cell_type": "markdown",
   "metadata": {},
   "source": [
    "## Dataset"
   ]
  },
  {
   "cell_type": "markdown",
   "metadata": {},
   "source": [
    "The aim of this exercise session is to get familiar with the concept of **model selection**. But, before entering into the details, let's open a small dataset that we will use throughout the exercises. The code is already provided below.\n",
    "\n",
    "<div class=\"alert alert-warning\">\n",
    "\n",
    "**Dataset description**\n",
    "    \n",
    "The dataset is related to red variant of the Portuguese \"Vinho Verde\" wine. For more details, consult the reference [Cortez et al., 2009]. Due to privacy and logistic issues, only physicochemical (inputs) and sensory (the output) variables are available (e.g. there is no data about grape types, wine brand, wine selling price, etc.).\n",
    "   \n",
    "    \n",
    "\n",
    "**Features**\n",
    "    \n",
    "1. **fixed acidity**\n",
    "2. **volatile acidity**\n",
    "3. **citric acid**\n",
    "4. **residual sugar**\n",
    "5. **chlorides**\n",
    "6. **free sulfur dioxide**\n",
    "7. **total sulfur dioxide**\n",
    "8. **density**\n",
    "9. **pH**\n",
    "10. **sulphates**\n",
    "11. **alcohol**\n",
    "    \n",
    "**Target**\n",
    "       \n",
    "10. **quality**: score between 0 and 10\n",
    "    \n",
    "</div>\n",
    "\n"
   ]
  },
  {
   "cell_type": "code",
   "execution_count": 3,
   "metadata": {},
   "outputs": [],
   "source": [
    "df = pd.read_csv(\"data/winequality-red.csv\")\n",
    "X = df.drop(\"quality\", axis=1).values\n",
    "y = df[\"quality\"].values\n",
    "\n",
    "# df.info()\n",
    "# df.head()"
   ]
  },
  {
   "cell_type": "markdown",
   "metadata": {},
   "source": [
    "## Why model selection ?"
   ]
  },
  {
   "cell_type": "markdown",
   "metadata": {},
   "source": [
    "In supervised machine learning, we can tackle a same prediction problem with numerous possible models, each with various hyperparameters. **Model selection** is the process of selecting a model, among various candidates, which achieves the best performances according to some performance criterion. \n",
    "\n",
    "While it might be tempting to train a model on all available data and simply choose the model with the smallest loss, it might not be a good idea in practice: this could lead to **overfitting**. \n",
    "\n",
    "<div class=\"alert alert-warning\">\n",
    "<b>Question</b>  <br>\n",
    "What is overfitting ? Try to explain it in your own words.\n",
    "</div>\n",
    "\n",
    "One must keep in mind that the \"best performance\" model is not the one that best approximates the training data but the one that best **generalizes** to **unseen** data points. As an example, in the following graphs, while the last curve gives an exact prediction for the training points (and thus a loss of zero) it is quite obvious that the best model in terms of generalization is the third one.\n",
    "\n",
    "<img src=\"data/img1.png\" width = \"600\">\n",
    "\n",
    "##### Train/Test split\n",
    "To simulate these \"seen\" and \"unseen\" data points and assess if a model generalizes well, the dataset can be separated into two different sets : the **training set** and the **test set**. The training set is used to train models and find the hyperparameters while the test set is left untouched and is soleley used to assess how well these models generalize to unseen samples.\n",
    "\n",
    "<div class=\"alert alert-success\">\n",
    "    \n",
    "    \n",
    "**Implement** this splitting using methods available in the **sklearn** module.\n",
    "    \n",
    "</div>"
   ]
  },
  {
   "cell_type": "code",
   "execution_count": 4,
   "metadata": {},
   "outputs": [],
   "source": [
    "from sklearn.model_selection import train_test_split\n",
    "\n",
    "###################\n",
    "# INSERT CODE HERE\n",
    "\n",
    "X_train, X_test, y_train, y_test = train_test_split(X,y,test_size=0.33,random_state=42)\n",
    "\n",
    "###################\n",
    "## TODO: Split your dataset in two parts: train split and test split.\n"
   ]
  },
  {
   "cell_type": "markdown",
   "metadata": {},
   "source": [
    "##### Scaling - Standardization\n",
    "\n",
    "Before going any further, there is still one preprocessing step that has not been conducted on the data: **scaling**. This can be done easily with the StandardScaler from sklearn.\n",
    "\n",
    "<div class=\"alert alert-warning\">\n",
    "<b>Question</b>  <br>\n",
    "Why is scaling (standardization) useful ? \n",
    "</div>\n",
    "\n",
    "<div class=\"alert alert-warning\">\n",
    "<b>Question</b>  <br>\n",
    "How should the scaler be fitted and applied ? <br>\n",
    "- On all the data at once ? <br>\n",
    "- Only on the training data then applied on both the training and test sets ? <br>\n",
    "\n",
    "There was a similar question in the exam from last year ;-)\n",
    "</div>\n",
    "\n",
    "<div class=\"alert alert-success\">\n",
    "<b>Scale</b> the data using standardScaler from sklearn (for this exercice, only scale input features, not the target).\n",
    "</div>\n"
   ]
  },
  {
   "cell_type": "code",
   "execution_count": 5,
   "metadata": {},
   "outputs": [],
   "source": [
    "from sklearn.preprocessing import StandardScaler\n",
    "\n",
    "###################\n",
    "# INSERT CODE HERE\n",
    "###################\n",
    "scaler = StandardScaler()\n",
    "scaled_X_train = scaler.fit_transform(X_train)\n",
    "scaled_X_test = scaler.transform(X_test)"
   ]
  },
  {
   "cell_type": "markdown",
   "metadata": {},
   "source": [
    "<div class=\"alert alert-info\">\n",
    "    \n",
    "**Remark:** <br>\n",
    "In a general setting, scaling the input features only is usually enough. This is what we asked you to do here, for the sake of simplicity. However, note that scaling the target can also be useful in some cases, especially with neural nets trained by gradient descent, where unscaled target may imply larger errors and thus larger gradients causing weights to change abruptly. This in turns makes the training process more unstable. In an extreme case, if gradients explode, training can simply fail. As a bonus, we recommend you to try scaling also the target. If you do so, do not forget to apply the inverse tranform to your prediction before evaluating the performance, such that you can properly compare this scenario with the unscaled target scenario. What do you observe? An increase or a decrease in performance?\n",
    "</div>  \n"
   ]
  },
  {
   "cell_type": "markdown",
   "metadata": {},
   "source": [
    "\n",
    "##### Evaluation Metric\n",
    "In order to perform model selection, some metric(s) should be used in order to rank the performance\n",
    "of the competing models.We will be using the RMSE criterion.\n",
    "\n",
    "<div class=\"alert alert-success\">\n",
    "    \n",
    "**Fill** in the compute_rmse function\n",
    "    \n",
    "</div>"
   ]
  },
  {
   "cell_type": "code",
   "execution_count": 6,
   "metadata": {},
   "outputs": [
    {
     "data": {
      "text/plain": [
       "0.7071067811865476"
      ]
     },
     "execution_count": 6,
     "metadata": {},
     "output_type": "execute_result"
    }
   ],
   "source": [
    "from math import sqrt\n",
    "# Compute the Root Mean Square Error\n",
    "def compute_rmse(predict, target):\n",
    "    \n",
    "    ###################\n",
    "    # INSERT CODE HERE\n",
    "    diff = []\n",
    "    for i in range(len(predict)):\n",
    "        \n",
    "        diff.append((predict[i]-target[i])**2)\n",
    "        \n",
    "    rmse= sqrt(sum(diff)/len(predict))\n",
    "    \n",
    "    ###################\n",
    "    ## TODO: compute rmse\n",
    "    return rmse\n",
    "\n",
    "compute_rmse([1,2],[2,2])"
   ]
  },
  {
   "cell_type": "markdown",
   "metadata": {},
   "source": [
    "##### The model\n",
    "\n",
    "Now that we have everything needed, lets try to observe some overfitting ourselves !\n",
    "\n",
    "<div class=\"alert alert-success\">\n",
    "    \n",
    "**Train** a small MLP using sklearn.neural_network.MLPRegressor on the training set. For now let us just focus on one hyperparameter: the number of iterations. We want to find the best value for this hyperparameter. Try different value of the max_iter argument of MLPRegressor; what do you observe for the loss on the training set ? and for the loss on the test set ?\n",
    "    \n",
    "</div>"
   ]
  },
  {
   "cell_type": "code",
   "execution_count": 7,
   "metadata": {},
   "outputs": [
    {
     "name": "stdout",
     "output_type": "stream",
     "text": [
      "RMSE on train set: 0.516\n",
      "RMSE on test set:  0.731\n"
     ]
    }
   ],
   "source": [
    "from sklearn.neural_network import MLPRegressor\n",
    "\n",
    "# number of iterations\n",
    "max_iter = 2000# try different values\n",
    "\n",
    "# model initialization \n",
    "mlp = MLPRegressor(hidden_layer_sizes = (128,128), \n",
    "                   learning_rate = \"adaptive\",\n",
    "                   learning_rate_init=0.01, \n",
    "                   max_iter=max_iter)\n",
    "\n",
    "\n",
    "###################\n",
    "# INSERT CODE HERE\n",
    "mlp.fit(scaled_X_train,y_train)\n",
    "\n",
    "rmse_train = compute_rmse(mlp.predict(scaled_X_train),y_train) \n",
    "rmse_test = compute_rmse(mlp.predict(scaled_X_test),y_test)\n",
    "\n",
    "###################\n",
    "## TODO: fit model and compute rmse on the training set and on the test set\n",
    "\n",
    "# results\n",
    "print(f\"RMSE on train set: {rmse_train:5.3f}\")\n",
    "print(f\"RMSE on test set:  {rmse_test:5.3f}\")"
   ]
  },
  {
   "cell_type": "code",
   "execution_count": 8,
   "metadata": {},
   "outputs": [],
   "source": [
    "import plotly.express as px\n",
    "\n",
    "max_iter = 300 \n",
    "train_rmses, test_rmses = [],[]\n",
    "for i in range(1,max_iter,10):\n",
    "    mlp = MLPRegressor(hidden_layer_sizes = (128,128), \n",
    "                   learning_rate = \"adaptive\",\n",
    "                   learning_rate_init=0.01, \n",
    "                   max_iter=max_iter)\n",
    "    mlp.fit(scaled_X_train,y_train)\n",
    "    train_rmses.append(compute_rmse(mlp.predict(scaled_X_train),y_train))\n",
    "    test_rmses.append(compute_rmse(mlp.predict(scaled_X_test),y_test))\n",
    "    "
   ]
  },
  {
   "cell_type": "code",
   "execution_count": 9,
   "metadata": {},
   "outputs": [
    {
     "data": {
      "application/vnd.plotly.v1+json": {
       "config": {
        "plotlyServerURL": "https://plot.ly"
       },
       "data": [
        {
         "hovertemplate": "x=%{x}<br>y=%{y}<extra></extra>",
         "legendgroup": "",
         "line": {
          "color": "#636efa",
          "dash": "solid"
         },
         "marker": {
          "symbol": "circle"
         },
         "mode": "lines",
         "name": "",
         "orientation": "v",
         "showlegend": false,
         "type": "scatter",
         "x": {
          "bdata": "AQALABUAHwApADMAPQBHAFEAWwBlAG8AeQCDAI0AlwChAKsAtQC/AMkA0wDdAOcA8QD7AAUBDwEZASMB",
          "dtype": "i2"
         },
         "xaxis": "x",
         "y": {
          "bdata": "a6fGTLdf3D9ic8c9Az3ZP9d44y22dt8/nkAUxjlh4D+t6Xj2oL/cP3rcRuSDaeE/+RBXOS0J4j8eTnK2vRTcP5v2XKwhCtw/Sy03Bjz93j9+DS1rr7rbPxxnMX8nI+E/0dHrC+U23D9jG9vIpKvhP4jwywaJweE/9zvBYK3u2j8FXk6ZneraPxFETc9Nrdo/buLW73Rf2T+hAZHlS83bPyNN+2PQ0Nw/TxSsQEUJ3z/pyoF5lVDbPy0BYm4rB90/YuCbjZ+J3D898hBAhYfeP7dREM8H6t0/DykEmNrH3T8hte3irWHfP+5XC0/wYd0/",
          "dtype": "f8"
         },
         "yaxis": "y"
        },
        {
         "type": "scatter",
         "x": [
          1,
          11,
          21,
          31,
          41,
          51,
          61,
          71,
          81,
          91,
          101,
          111,
          121,
          131,
          141,
          151,
          161,
          171,
          181,
          191,
          201,
          211,
          221,
          231,
          241,
          251,
          261,
          271,
          281,
          291
         ],
         "y": [
          0.6714115061457083,
          0.675867259854019,
          0.6494986817978848,
          0.6839779269241275,
          0.6809395999437278,
          0.6978880086010965,
          0.7282210530264415,
          0.6779007569373791,
          0.6527374129458696,
          0.6609505431821295,
          0.6952158196004131,
          0.6899811684459339,
          0.6528088358869771,
          0.7804707519142533,
          0.712594948489466,
          0.6665420264727013,
          0.695221100123277,
          0.7617112361701656,
          0.6797905947999804,
          0.6935712685774295,
          0.6658188090121583,
          0.7179408383765237,
          0.6771234625525547,
          0.6709607852849345,
          0.702498250159578,
          0.7562673332577953,
          0.6733945721325392,
          0.643791937062519,
          0.6706766149636623,
          0.6566322990451843
         ]
        }
       ],
       "layout": {
        "legend": {
         "tracegroupgap": 0
        },
        "margin": {
         "t": 60
        },
        "template": {
         "data": {
          "bar": [
           {
            "error_x": {
             "color": "#2a3f5f"
            },
            "error_y": {
             "color": "#2a3f5f"
            },
            "marker": {
             "line": {
              "color": "#E5ECF6",
              "width": 0.5
             },
             "pattern": {
              "fillmode": "overlay",
              "size": 10,
              "solidity": 0.2
             }
            },
            "type": "bar"
           }
          ],
          "barpolar": [
           {
            "marker": {
             "line": {
              "color": "#E5ECF6",
              "width": 0.5
             },
             "pattern": {
              "fillmode": "overlay",
              "size": 10,
              "solidity": 0.2
             }
            },
            "type": "barpolar"
           }
          ],
          "carpet": [
           {
            "aaxis": {
             "endlinecolor": "#2a3f5f",
             "gridcolor": "white",
             "linecolor": "white",
             "minorgridcolor": "white",
             "startlinecolor": "#2a3f5f"
            },
            "baxis": {
             "endlinecolor": "#2a3f5f",
             "gridcolor": "white",
             "linecolor": "white",
             "minorgridcolor": "white",
             "startlinecolor": "#2a3f5f"
            },
            "type": "carpet"
           }
          ],
          "choropleth": [
           {
            "colorbar": {
             "outlinewidth": 0,
             "ticks": ""
            },
            "type": "choropleth"
           }
          ],
          "contour": [
           {
            "colorbar": {
             "outlinewidth": 0,
             "ticks": ""
            },
            "colorscale": [
             [
              0,
              "#0d0887"
             ],
             [
              0.1111111111111111,
              "#46039f"
             ],
             [
              0.2222222222222222,
              "#7201a8"
             ],
             [
              0.3333333333333333,
              "#9c179e"
             ],
             [
              0.4444444444444444,
              "#bd3786"
             ],
             [
              0.5555555555555556,
              "#d8576b"
             ],
             [
              0.6666666666666666,
              "#ed7953"
             ],
             [
              0.7777777777777778,
              "#fb9f3a"
             ],
             [
              0.8888888888888888,
              "#fdca26"
             ],
             [
              1,
              "#f0f921"
             ]
            ],
            "type": "contour"
           }
          ],
          "contourcarpet": [
           {
            "colorbar": {
             "outlinewidth": 0,
             "ticks": ""
            },
            "type": "contourcarpet"
           }
          ],
          "heatmap": [
           {
            "colorbar": {
             "outlinewidth": 0,
             "ticks": ""
            },
            "colorscale": [
             [
              0,
              "#0d0887"
             ],
             [
              0.1111111111111111,
              "#46039f"
             ],
             [
              0.2222222222222222,
              "#7201a8"
             ],
             [
              0.3333333333333333,
              "#9c179e"
             ],
             [
              0.4444444444444444,
              "#bd3786"
             ],
             [
              0.5555555555555556,
              "#d8576b"
             ],
             [
              0.6666666666666666,
              "#ed7953"
             ],
             [
              0.7777777777777778,
              "#fb9f3a"
             ],
             [
              0.8888888888888888,
              "#fdca26"
             ],
             [
              1,
              "#f0f921"
             ]
            ],
            "type": "heatmap"
           }
          ],
          "histogram": [
           {
            "marker": {
             "pattern": {
              "fillmode": "overlay",
              "size": 10,
              "solidity": 0.2
             }
            },
            "type": "histogram"
           }
          ],
          "histogram2d": [
           {
            "colorbar": {
             "outlinewidth": 0,
             "ticks": ""
            },
            "colorscale": [
             [
              0,
              "#0d0887"
             ],
             [
              0.1111111111111111,
              "#46039f"
             ],
             [
              0.2222222222222222,
              "#7201a8"
             ],
             [
              0.3333333333333333,
              "#9c179e"
             ],
             [
              0.4444444444444444,
              "#bd3786"
             ],
             [
              0.5555555555555556,
              "#d8576b"
             ],
             [
              0.6666666666666666,
              "#ed7953"
             ],
             [
              0.7777777777777778,
              "#fb9f3a"
             ],
             [
              0.8888888888888888,
              "#fdca26"
             ],
             [
              1,
              "#f0f921"
             ]
            ],
            "type": "histogram2d"
           }
          ],
          "histogram2dcontour": [
           {
            "colorbar": {
             "outlinewidth": 0,
             "ticks": ""
            },
            "colorscale": [
             [
              0,
              "#0d0887"
             ],
             [
              0.1111111111111111,
              "#46039f"
             ],
             [
              0.2222222222222222,
              "#7201a8"
             ],
             [
              0.3333333333333333,
              "#9c179e"
             ],
             [
              0.4444444444444444,
              "#bd3786"
             ],
             [
              0.5555555555555556,
              "#d8576b"
             ],
             [
              0.6666666666666666,
              "#ed7953"
             ],
             [
              0.7777777777777778,
              "#fb9f3a"
             ],
             [
              0.8888888888888888,
              "#fdca26"
             ],
             [
              1,
              "#f0f921"
             ]
            ],
            "type": "histogram2dcontour"
           }
          ],
          "mesh3d": [
           {
            "colorbar": {
             "outlinewidth": 0,
             "ticks": ""
            },
            "type": "mesh3d"
           }
          ],
          "parcoords": [
           {
            "line": {
             "colorbar": {
              "outlinewidth": 0,
              "ticks": ""
             }
            },
            "type": "parcoords"
           }
          ],
          "pie": [
           {
            "automargin": true,
            "type": "pie"
           }
          ],
          "scatter": [
           {
            "fillpattern": {
             "fillmode": "overlay",
             "size": 10,
             "solidity": 0.2
            },
            "type": "scatter"
           }
          ],
          "scatter3d": [
           {
            "line": {
             "colorbar": {
              "outlinewidth": 0,
              "ticks": ""
             }
            },
            "marker": {
             "colorbar": {
              "outlinewidth": 0,
              "ticks": ""
             }
            },
            "type": "scatter3d"
           }
          ],
          "scattercarpet": [
           {
            "marker": {
             "colorbar": {
              "outlinewidth": 0,
              "ticks": ""
             }
            },
            "type": "scattercarpet"
           }
          ],
          "scattergeo": [
           {
            "marker": {
             "colorbar": {
              "outlinewidth": 0,
              "ticks": ""
             }
            },
            "type": "scattergeo"
           }
          ],
          "scattergl": [
           {
            "marker": {
             "colorbar": {
              "outlinewidth": 0,
              "ticks": ""
             }
            },
            "type": "scattergl"
           }
          ],
          "scattermap": [
           {
            "marker": {
             "colorbar": {
              "outlinewidth": 0,
              "ticks": ""
             }
            },
            "type": "scattermap"
           }
          ],
          "scattermapbox": [
           {
            "marker": {
             "colorbar": {
              "outlinewidth": 0,
              "ticks": ""
             }
            },
            "type": "scattermapbox"
           }
          ],
          "scatterpolar": [
           {
            "marker": {
             "colorbar": {
              "outlinewidth": 0,
              "ticks": ""
             }
            },
            "type": "scatterpolar"
           }
          ],
          "scatterpolargl": [
           {
            "marker": {
             "colorbar": {
              "outlinewidth": 0,
              "ticks": ""
             }
            },
            "type": "scatterpolargl"
           }
          ],
          "scatterternary": [
           {
            "marker": {
             "colorbar": {
              "outlinewidth": 0,
              "ticks": ""
             }
            },
            "type": "scatterternary"
           }
          ],
          "surface": [
           {
            "colorbar": {
             "outlinewidth": 0,
             "ticks": ""
            },
            "colorscale": [
             [
              0,
              "#0d0887"
             ],
             [
              0.1111111111111111,
              "#46039f"
             ],
             [
              0.2222222222222222,
              "#7201a8"
             ],
             [
              0.3333333333333333,
              "#9c179e"
             ],
             [
              0.4444444444444444,
              "#bd3786"
             ],
             [
              0.5555555555555556,
              "#d8576b"
             ],
             [
              0.6666666666666666,
              "#ed7953"
             ],
             [
              0.7777777777777778,
              "#fb9f3a"
             ],
             [
              0.8888888888888888,
              "#fdca26"
             ],
             [
              1,
              "#f0f921"
             ]
            ],
            "type": "surface"
           }
          ],
          "table": [
           {
            "cells": {
             "fill": {
              "color": "#EBF0F8"
             },
             "line": {
              "color": "white"
             }
            },
            "header": {
             "fill": {
              "color": "#C8D4E3"
             },
             "line": {
              "color": "white"
             }
            },
            "type": "table"
           }
          ]
         },
         "layout": {
          "annotationdefaults": {
           "arrowcolor": "#2a3f5f",
           "arrowhead": 0,
           "arrowwidth": 1
          },
          "autotypenumbers": "strict",
          "coloraxis": {
           "colorbar": {
            "outlinewidth": 0,
            "ticks": ""
           }
          },
          "colorscale": {
           "diverging": [
            [
             0,
             "#8e0152"
            ],
            [
             0.1,
             "#c51b7d"
            ],
            [
             0.2,
             "#de77ae"
            ],
            [
             0.3,
             "#f1b6da"
            ],
            [
             0.4,
             "#fde0ef"
            ],
            [
             0.5,
             "#f7f7f7"
            ],
            [
             0.6,
             "#e6f5d0"
            ],
            [
             0.7,
             "#b8e186"
            ],
            [
             0.8,
             "#7fbc41"
            ],
            [
             0.9,
             "#4d9221"
            ],
            [
             1,
             "#276419"
            ]
           ],
           "sequential": [
            [
             0,
             "#0d0887"
            ],
            [
             0.1111111111111111,
             "#46039f"
            ],
            [
             0.2222222222222222,
             "#7201a8"
            ],
            [
             0.3333333333333333,
             "#9c179e"
            ],
            [
             0.4444444444444444,
             "#bd3786"
            ],
            [
             0.5555555555555556,
             "#d8576b"
            ],
            [
             0.6666666666666666,
             "#ed7953"
            ],
            [
             0.7777777777777778,
             "#fb9f3a"
            ],
            [
             0.8888888888888888,
             "#fdca26"
            ],
            [
             1,
             "#f0f921"
            ]
           ],
           "sequentialminus": [
            [
             0,
             "#0d0887"
            ],
            [
             0.1111111111111111,
             "#46039f"
            ],
            [
             0.2222222222222222,
             "#7201a8"
            ],
            [
             0.3333333333333333,
             "#9c179e"
            ],
            [
             0.4444444444444444,
             "#bd3786"
            ],
            [
             0.5555555555555556,
             "#d8576b"
            ],
            [
             0.6666666666666666,
             "#ed7953"
            ],
            [
             0.7777777777777778,
             "#fb9f3a"
            ],
            [
             0.8888888888888888,
             "#fdca26"
            ],
            [
             1,
             "#f0f921"
            ]
           ]
          },
          "colorway": [
           "#636efa",
           "#EF553B",
           "#00cc96",
           "#ab63fa",
           "#FFA15A",
           "#19d3f3",
           "#FF6692",
           "#B6E880",
           "#FF97FF",
           "#FECB52"
          ],
          "font": {
           "color": "#2a3f5f"
          },
          "geo": {
           "bgcolor": "white",
           "lakecolor": "white",
           "landcolor": "#E5ECF6",
           "showlakes": true,
           "showland": true,
           "subunitcolor": "white"
          },
          "hoverlabel": {
           "align": "left"
          },
          "hovermode": "closest",
          "mapbox": {
           "style": "light"
          },
          "paper_bgcolor": "white",
          "plot_bgcolor": "#E5ECF6",
          "polar": {
           "angularaxis": {
            "gridcolor": "white",
            "linecolor": "white",
            "ticks": ""
           },
           "bgcolor": "#E5ECF6",
           "radialaxis": {
            "gridcolor": "white",
            "linecolor": "white",
            "ticks": ""
           }
          },
          "scene": {
           "xaxis": {
            "backgroundcolor": "#E5ECF6",
            "gridcolor": "white",
            "gridwidth": 2,
            "linecolor": "white",
            "showbackground": true,
            "ticks": "",
            "zerolinecolor": "white"
           },
           "yaxis": {
            "backgroundcolor": "#E5ECF6",
            "gridcolor": "white",
            "gridwidth": 2,
            "linecolor": "white",
            "showbackground": true,
            "ticks": "",
            "zerolinecolor": "white"
           },
           "zaxis": {
            "backgroundcolor": "#E5ECF6",
            "gridcolor": "white",
            "gridwidth": 2,
            "linecolor": "white",
            "showbackground": true,
            "ticks": "",
            "zerolinecolor": "white"
           }
          },
          "shapedefaults": {
           "line": {
            "color": "#2a3f5f"
           }
          },
          "ternary": {
           "aaxis": {
            "gridcolor": "white",
            "linecolor": "white",
            "ticks": ""
           },
           "baxis": {
            "gridcolor": "white",
            "linecolor": "white",
            "ticks": ""
           },
           "bgcolor": "#E5ECF6",
           "caxis": {
            "gridcolor": "white",
            "linecolor": "white",
            "ticks": ""
           }
          },
          "title": {
           "x": 0.05
          },
          "xaxis": {
           "automargin": true,
           "gridcolor": "white",
           "linecolor": "white",
           "ticks": "",
           "title": {
            "standoff": 15
           },
           "zerolinecolor": "white",
           "zerolinewidth": 2
          },
          "yaxis": {
           "automargin": true,
           "gridcolor": "white",
           "linecolor": "white",
           "ticks": "",
           "title": {
            "standoff": 15
           },
           "zerolinecolor": "white",
           "zerolinewidth": 2
          }
         }
        },
        "xaxis": {
         "anchor": "y",
         "domain": [
          0,
          1
         ],
         "title": {
          "text": "x"
         }
        },
        "yaxis": {
         "anchor": "x",
         "domain": [
          0,
          1
         ],
         "title": {
          "text": "y"
         }
        }
       }
      }
     },
     "metadata": {},
     "output_type": "display_data"
    }
   ],
   "source": [
    "fig = px.line(x=range(1,max_iter,10),y=train_rmses)\n",
    "fig.add_scatter(x=list(range(1,max_iter,10)),y=test_rmses)\n",
    "fig.show()"
   ]
  },
  {
   "cell_type": "markdown",
   "metadata": {},
   "source": [
    "## The importance of the validation set"
   ]
  },
  {
   "cell_type": "markdown",
   "metadata": {},
   "source": [
    "From the previous exercise, we learned that we should not choose our best model nor try to evaluate performance based on the training set. Does this mean we should choose the model that best performs on the test set then ? Well, this is probably **not** a good idea either. \n",
    "\n",
    "<div class=\"alert alert-warning\">\n",
    "<b>Question</b>  <br>\n",
    "Do you know why ? Why would it be \"cheating\" if doing so ?\n",
    "</div>\n",
    "\n",
    "A better solution is therefore to introduce a third set called the **validation set** : \n",
    "- training set : used to train the models \n",
    "- validation set : used to chose the best models and hyperparameters\n",
    "- test set : used to assess the final performance\n",
    "\n",
    "<img src=\"data/img2.png\" width = \"600\">\n",
    "\n",
    "\n",
    "\n",
    "We will thus try to find the the best value for max_iter based on the model performance on the validation set. We could just train one model and look at the evolution of the validation loss at each iteration but we do not have acces to this data for sklearn's MLPRegressor. To circumvent this, we can train several models, each with a different value for max_iter, and record the validation losses (and training losses). Note that this is how we would operate for other hyperparameters as well.\n",
    "\n",
    "<div class=\"alert alert-success\">\n",
    "\n",
    "**Split** the data into a training set, a validation set and a test set. **Train** various MLPs with different number of iterations and record training and validation losses. To do this, complete/modify the \"find_best_param_value\" function. Finally, plot the two losses against the number of iterations. What do you observe ? How can we detect overfitting in such a plot ?\n",
    "\n",
    "</div>"
   ]
  },
  {
   "cell_type": "code",
   "execution_count": 11,
   "metadata": {},
   "outputs": [
    {
     "data": {
      "image/png": "[encoded data removed]",
      "text/plain": [
       "<Figure size 640x480 with 1 Axes>"
      ]
     },
     "metadata": {},
     "output_type": "display_data"
    }
   ],
   "source": [
    "import warnings\n",
    "from sklearn.exceptions import ConvergenceWarning\n",
    "\n",
    "\n",
    "warnings.filterwarnings(\"ignore\", category=ConvergenceWarning)\n",
    "\n",
    "[1,2,4,8,16]\n",
    "[18,7,5,6,1]   \n",
    "\n",
    "\n",
    "# restart from original data\n",
    "X_learn, X_test, y_learn, y_test = train_test_split(X, y, test_size=0.2) \n",
    "\n",
    "# do no forget the scaling :-)\n",
    "sc = StandardScaler()\n",
    "sc.fit(X_learn)\n",
    "X_learn = sc.transform(X_learn)\n",
    "X_test = sc.transform(X_test)\n",
    "\n",
    "###################\n",
    "# INSERT CODE HERE\n",
    "\n",
    "X_train, X_val, y_train, y_val = train_test_split(X_learn, y_learn, test_size=0.2) \n",
    "\n",
    "###################\n",
    "## TODO: Split into a training and validation set\n",
    "\n",
    "# takes as input a model with base parameters \"base_params\", and finds the best value for hyperparameter \"param_key\"\n",
    "# among the speficied values \"param_values\"\n",
    "def find_best_param_value(model, base_params, param_key, param_values, X_train, y_train, X_val, y_val):\n",
    "    \n",
    "    # initialization of loss vectors (lists)\n",
    "    rmse_train = [0]*len(param_values)\n",
    "    rmse_val = [0]*len(param_values)\n",
    "    \n",
    "    for i, param_value in enumerate(param_values):\n",
    "        \n",
    "        base_params[param_key] = param_value\n",
    "        model.set_params(**params)\n",
    "    \n",
    "        # fit model\n",
    "        model.fit(X_train, y_train);\n",
    "\n",
    "        # loss on the training set\n",
    "        y_pred_train = model.predict(X_train)\n",
    "        rmse_train[i]=compute_rmse(y_pred_train,y_train)\n",
    "\n",
    "        # loss on the val set\n",
    "        y_pred_val = model.predict(X_val)\n",
    "        rmse_val[i]=compute_rmse(y_pred_val,y_val)\n",
    "    \n",
    "    ###################\n",
    "    # INSERT CODE HERE\n",
    "    best_loss_val = np.min(rmse_val) # to modify\n",
    "    best_value = param_values[np.argmin(rmse_val)] # to modify\n",
    "    \n",
    "    ###################\n",
    "    ## TODO: Identify the best performance on the validation set and \n",
    "    # the corresponding best value for the considered hyperparameter\n",
    "    \n",
    "    return best_value, best_loss_val, rmse_train, rmse_val\n",
    "    \n",
    "\n",
    "# definition of model and parameters\n",
    "model = MLPRegressor()\n",
    "params = {\"hidden_layer_sizes\" :(128,128), \n",
    "          \"learning_rate\" : \"adaptive\",\n",
    "          \"learning_rate_init\" : 0.01}\n",
    "param_key = \"max_iter\"\n",
    "param_values = [1,2,4,8,16,32,64,128,256,512]\n",
    "\n",
    "# find best value for max_iter\n",
    "best_max_iter, best_loss_val, rmse_train, rmse_val = find_best_param_value(model,\n",
    "                                                                           params,\n",
    "                                                                           param_key,\n",
    "                                                                           param_values, \n",
    "                                                                           X_train, \n",
    "                                                                           y_train, \n",
    "                                                                           X_val, \n",
    "                                                                           y_val)\n",
    "\n",
    "# evaluation on the test set\n",
    "mlp = MLPRegressor(hidden_layer_sizes=(128,128), \n",
    "                   learning_rate=\"adaptive\",\n",
    "                   learning_rate_init=0.01, \n",
    "                   max_iter=best_max_iter)\n",
    "\n",
    "mlp.fit(X_train,y_train)\n",
    "y_pred_test = mlp.predict(X_test)\n",
    "rmse_test=compute_rmse(y_pred_test,y_test)\n",
    "\n",
    "\n",
    "# results\n",
    "plt.semilogx(param_values, rmse_train, base=2, color ='blue', label=\"Training RMSE\")\n",
    "plt.semilogx(param_values, rmse_val, base=2, color ='orange', label=\"Validation RMSE\")\n",
    "plt.axvline(best_max_iter, color ='orange', linestyle=':', alpha=0.5)\n",
    "plt.axhline(best_loss_val, color ='orange', linestyle=':', alpha=0.5)\n",
    "plt.axhline(rmse_test, color ='green', linestyle='--', alpha=0.8, label=\"Test RMSE\")\n",
    "plt.ylim(0.3,1)\n",
    "plt.title(\"Performance vs #iterations \")\n",
    "plt.xlabel(\"Iterations\")\n",
    "plt.ylabel(\"Root Mean Squared Error\")\n",
    "plt.legend(loc=\"best\");\n"
   ]
  },
  {
   "cell_type": "markdown",
   "metadata": {},
   "source": [
    "<div class=\"alert alert-info\">\n",
    "\n",
    "**Remark:**\n",
    "    \n",
    "Since usually the number of datapoints is pretty limited, once the best model has been chosen based on the validation set, the final chosen model could be retrained on **both** training and validation sets before final evaluation on the test set. Can you see why ?\n",
    "\n",
    "</div>  "
   ]
  },
  {
   "cell_type": "markdown",
   "metadata": {},
   "source": [
    "## K-Fold Cross validation"
   ]
  },
  {
   "cell_type": "markdown",
   "metadata": {},
   "source": [
    "If you have tried to run the previous cells several times you may have observed that the results are a somewhat unstable. This is because we have limited ourselves to a fixed train-validation-test subdivision and depending on the random seed, the results may vary quite a bit. We could obtain more robust results by taking an average over different splits. This is the principle of K-Fold.\n",
    "\n",
    "<div class='alert alert-info'>\n",
    "\n",
    "**K-Fold** is a common implementation of cross validation that splits the training data into\n",
    "separate subsets named folds. All but one of the folds are used to train a regression/classification model and the last one is used to assess the performances of the trained model by\n",
    "using a validation criterion. This step (commonly named ’split’) is repeated **K times**\n",
    "in such a way that each fold is being used **K − 1** times as a training fold an 1 time as a\n",
    "validation fold as depicted on the figure below.\n",
    "\n",
    "\n",
    "Finally the mean and standard deviation of the performances of the model during each split\n",
    "are computed. Those values give hints about the performances one could expect from the\n",
    "trained model.\n",
    "    \n",
    "<img src=\"https://scikit-learn.org/stable/_images/grid_search_cross_validation.png\" alt=\"Alternative text\" width=\"500\"/>\n",
    "    \n",
    "</div>\n",
    "\n",
    "\n",
    "<div class=\"alert alert-success\">\n",
    "    \n",
    "**Instanciate** a K-fold object from sklearn such that k = 5 \n",
    "    \n",
    "</div>"
   ]
  },
  {
   "cell_type": "code",
   "execution_count": 15,
   "metadata": {},
   "outputs": [],
   "source": [
    "from sklearn.model_selection import KFold\n",
    "\n",
    "###################\n",
    "# INSERT CODE HERE\n",
    "\n",
    "kf=KFold(n_splits = 10)\n",
    "\n",
    "###################\n",
    "## TODO: instanciate Kfold object\n"
   ]
  },
  {
   "cell_type": "markdown",
   "metadata": {},
   "source": [
    "<div class=\"alert alert-success\">\n",
    "    \n",
    "**Complete the implementation** of \"run_kfold\", a function that runs the previous function \"find_best_param_value\" on different splits of the data and averages the result for more robust hyperparameter selection. \n",
    "\n",
    "</div>"
   ]
  },
  {
   "cell_type": "code",
   "execution_count": 16,
   "metadata": {},
   "outputs": [
    {
     "name": "stdout",
     "output_type": "stream",
     "text": [
      "fold 1/10 is done.\n",
      "fold 2/10 is done.\n",
      "fold 3/10 is done.\n",
      "fold 4/10 is done.\n",
      "fold 5/10 is done.\n",
      "fold 6/10 is done.\n",
      "fold 7/10 is done.\n",
      "fold 8/10 is done.\n",
      "fold 9/10 is done.\n",
      "fold 10/10 is done.\n"
     ]
    },
    {
     "data": {
      "image/png": "[encoded data removed]",
      "text/plain": [
       "<Figure size 640x480 with 1 Axes>"
      ]
     },
     "metadata": {},
     "output_type": "display_data"
    }
   ],
   "source": [
    "def run_kfold(kf, model, params, param_key, param_values, X, y):\n",
    "   \n",
    "    # initialization\n",
    "    rmse_train_all = np.zeros((kf.get_n_splits(),len(param_values)))\n",
    "    rmse_val_all = np.zeros((kf.get_n_splits(),len(param_values)))\n",
    "    \n",
    "    for i,(train_index, val_index) in enumerate(kf.split(X)):\n",
    "        X_train_kfold, X_val_kfold = X[train_index], X[val_index]\n",
    "        y_train_kfold, y_val_kfold = y[train_index], y[val_index]\n",
    "        \n",
    "        best_max_iter, best_loss_val, rmse_train, rmse_val = find_best_param_value(model,\n",
    "                                                                                   params,\n",
    "                                                                                   param_key,\n",
    "                                                                                   param_values, \n",
    "                                                                                   X_train_kfold, \n",
    "                                                                                   y_train_kfold, \n",
    "                                                                                   X_val_kfold, \n",
    "                                                                                   y_val_kfold)\n",
    "        rmse_train_all[i,:]=rmse_train[:]\n",
    "        rmse_val_all[i,:]=rmse_val[:]\n",
    "        \n",
    "        print(f\"fold {i+1}/{kf.get_n_splits()} is done.\")\n",
    "        \n",
    "    ###################\n",
    "    # INSERT CODE HERE\n",
    "    \n",
    "    rmse_train_mean = np.mean(rmse_train_all, axis=0)\n",
    "    rmse_val_mean = np.mean(rmse_val_all, axis=0)\n",
    "    rmse_train_std = np.std(rmse_train_all, axis=0)\n",
    "    rmse_val_std = np.std(rmse_val_all, axis=0)\n",
    "    \n",
    "    best_loss_val = np.min(rmse_val_mean)\n",
    "    best_value = param_values[np.argmin(rmse_val_mean)]\n",
    "    \n",
    "    ###################\n",
    "    ## TODO: compute average results and standard deviations. Identify best mean performance on validation set\n",
    "    # and corresponding best value of the considered hyperparameter\n",
    "    \n",
    "    \n",
    "    return best_value, best_loss_val, rmse_train_mean, rmse_val_mean, rmse_train_std, rmse_val_std\n",
    "\n",
    "\n",
    "best_max_iter, best_loss_val, rmse_train_mean, rmse_val_mean, rmse_train_std, rmse_val_std = run_kfold(kf, \n",
    "                                                                                                       model, \n",
    "                                                                                                       params, \n",
    "                                                                                                       param_key, \n",
    "                                                                                                       param_values, \n",
    "                                                                                                       X_learn, \n",
    "                                                                                                       y_learn)\n",
    "\n",
    "# evaluation on the test set\n",
    "mlp = MLPRegressor(hidden_layer_sizes=(128,128), \n",
    "                   learning_rate=\"adaptive\",\n",
    "                   learning_rate_init=0.01, \n",
    "                   max_iter=best_max_iter)\n",
    "\n",
    "mlp.fit(X_train,y_train)\n",
    "y_pred_test = mlp.predict(X_test)\n",
    "rmse_test=compute_rmse(y_pred_test,y_test)\n",
    "\n",
    "\n",
    "# results\n",
    "plt.semilogx(param_values, rmse_train_mean, base=2, color='blue', label=\"Training RMSE\")\n",
    "plt.fill_between(param_values, rmse_train_mean+rmse_train_std, rmse_train_mean-rmse_train_std, facecolor='blue',alpha=0.2)\n",
    "plt.semilogx(param_values, rmse_val_mean, base=2, color='orange', label=\"Validation RMSE\")\n",
    "plt.fill_between(param_values, rmse_val_mean+rmse_val_std, rmse_val_mean-rmse_val_std, facecolor='orange',alpha=0.2)\n",
    "plt.axvline(best_max_iter, color ='orange', linestyle=':', alpha=0.5)\n",
    "plt.axhline(best_loss_val, color ='orange', linestyle=':', alpha=0.5)\n",
    "plt.axhline(rmse_test, color ='green', linestyle='--', alpha=0.8, label=\"Test RMSE\")\n",
    "plt.ylim(0.3,1)\n",
    "plt.title(\"Performance vs #iterations \")\n",
    "plt.xlabel(\"Iterations\")\n",
    "plt.ylabel(\"Root Mean Squared Error\")\n",
    "plt.legend(loc=\"best\");\n"
   ]
  },
  {
   "cell_type": "markdown",
   "metadata": {},
   "source": [
    "<div class=\"alert alert-warning\">\n",
    "<b>Question</b>  <br>\n",
    "Try to think about how the number K of folds may influence the results. What is the effect of taking a small K ? a big K ?    \n",
    "</div>"
   ]
  },
  {
   "cell_type": "markdown",
   "metadata": {},
   "source": [
    "# Hyperparameter search"
   ]
  },
  {
   "cell_type": "markdown",
   "metadata": {},
   "source": [
    "Until now we have only looked at the influence of one hyperparameter. Nevertheless the implementation of \"find_best_param_value\" and \"run-kfold\" are already quite cumbersome and perhaps a bit hard to adapt to the combined search of two or more hyperparameters. Fortunately for us, sklearn provides a tool just for that: **GridSearchCV**. It performs grid search in a cross validated fashion to find the best hyperparameters for a model (among predefined values).\n",
    "\n",
    "<div class=\"alert alert-info\">\n",
    "    \n",
    "    \n",
    "**GridSearch** is a famous method to search for values to set for model hyperparameters. The principle of this method is quite simple: with the definition of the ranges of values to try for each hyperparameter as the single requirement, it applies cross-validation of a model for each possible combination of values and returns the selection that leads to the model with best performances. \n",
    "    \n",
    "    \n",
    "**Example**: Say a model has 2 hyperparameters, one having 6 discrete values and the other has continuous range of values in range [0,1]. One could select all the possible values for HP1 and 10 specific values for HP2 and perform GridSearch. This would thus imply the cross-validation training of 6x10=60 models. The performances of those models are then compared and the best one is returned with the values its hyperparameters were set to.\n",
    "    \n",
    "    \n",
    "</div>\n",
    "\n",
    "\n",
    "<div class=\"alert alert-success\">\n",
    "\n",
    "**Complete the implementation** of \"perform_grid_search\" function. In particular, fill in the arguments of \"make_scorer\", a function that enables us to use our custom \"compute_rmse\" as an evaluation criterion. Also, fill in the arguments of \"GridSearchCV\". Do not hesitate to check the documentation.\n",
    "\n",
    "Once you finished the implementation of \"perform grid search\", experiment with various set of hyperparameters, or even entirely different models! \n",
    "    \n",
    "</div>"
   ]
  },
  {
   "cell_type": "code",
   "execution_count": 17,
   "metadata": {},
   "outputs": [
    {
     "name": "stdout",
     "output_type": "stream",
     "text": [
      "{'hidden_layer_sizes': (128, 128), 'learning_rate': 'adaptive', 'learning_rate_init': 0.01, 'max_iter': 16}\n",
      "RMSE on test set:  0.696\n"
     ]
    }
   ],
   "source": [
    "from sklearn.metrics import make_scorer\n",
    "from sklearn.model_selection import GridSearchCV\n",
    "\n",
    "def perform_grid_search(model, param_grid, score_function, kf, X, y):\n",
    "    \n",
    "    ###################\n",
    "    # INSERT CODE HERE\n",
    "    \n",
    "    score = make_scorer(score_function,greater_is_better=False,)\n",
    "    grid = GridSearchCV(model,param_grid,cv=kf)\n",
    "\n",
    "    ###################\n",
    "    ## TODO: fill in the arguments of \"make_scorer\" and \"GridSearchCV\"\n",
    "\n",
    "    \n",
    "    grid.fit(X, y) \n",
    "    \n",
    "    return grid\n",
    "\n",
    "\n",
    "# This parameter definition and function call is equivalent to what we have done before ... \n",
    "# much more efficient right ? :-)\n",
    "model = model = MLPRegressor()\n",
    "param_grid = {\"hidden_layer_sizes\" :[(128,128)], \n",
    "              \"learning_rate\" : [\"adaptive\"],\n",
    "              \"learning_rate_init\" : [0.01], \n",
    "              \"max_iter\" : [1,2,4,8,16,32,64,128,256,512]}\n",
    "\n",
    "grid = perform_grid_search(model, param_grid, compute_rmse, kf, X_learn, y_learn)\n",
    "\n",
    "# print best parameter after tuning \n",
    "print(grid.best_params_) \n",
    "\n",
    "#evaluation on test set\n",
    "y_pred_test = grid.predict(X_test)\n",
    "rmse_test = compute_rmse(y_pred_test,y_test)\n",
    "\n",
    "\n",
    "# results\n",
    "print(f\"RMSE on test set:  {rmse_test:5.3f}\")"
   ]
  },
  {
   "cell_type": "markdown",
   "metadata": {},
   "source": [
    "<div class=\"alert alert-success\">\n",
    "    \n",
    "Run the next cell. This shows the performances of each model you trained during your grid search. Can you tell the performances that one could expect from the model using the ’best hyperparameters’ ? Does it correspond to your results when applying the model on the test set?\n",
    "    \n",
    "</div>"
   ]
  },
  {
   "cell_type": "code",
   "execution_count": 18,
   "metadata": {},
   "outputs": [
    {
     "data": {
      "text/html": [
       "<div>\n",
       "<style scoped>\n",
       "    .dataframe tbody tr th:only-of-type {\n",
       "        vertical-align: middle;\n",
       "    }\n",
       "\n",
       "    .dataframe tbody tr th {\n",
       "        vertical-align: top;\n",
       "    }\n",
       "\n",
       "    .dataframe thead th {\n",
       "        text-align: right;\n",
       "    }\n",
       "</style>\n",
       "<table border=\"1\" class=\"dataframe\">\n",
       "  <thead>\n",
       "    <tr style=\"text-align: right;\">\n",
       "      <th></th>\n",
       "      <th>mean_fit_time</th>\n",
       "      <th>std_fit_time</th>\n",
       "      <th>mean_score_time</th>\n",
       "      <th>std_score_time</th>\n",
       "      <th>param_hidden_layer_sizes</th>\n",
       "      <th>param_learning_rate</th>\n",
       "      <th>param_learning_rate_init</th>\n",
       "      <th>param_max_iter</th>\n",
       "      <th>params</th>\n",
       "      <th>split0_test_score</th>\n",
       "      <th>...</th>\n",
       "      <th>split3_test_score</th>\n",
       "      <th>split4_test_score</th>\n",
       "      <th>split5_test_score</th>\n",
       "      <th>split6_test_score</th>\n",
       "      <th>split7_test_score</th>\n",
       "      <th>split8_test_score</th>\n",
       "      <th>split9_test_score</th>\n",
       "      <th>mean_test_score</th>\n",
       "      <th>std_test_score</th>\n",
       "      <th>rank_test_score</th>\n",
       "    </tr>\n",
       "  </thead>\n",
       "  <tbody>\n",
       "    <tr>\n",
       "      <th>0</th>\n",
       "      <td>0.022571</td>\n",
       "      <td>0.011728</td>\n",
       "      <td>0.001388</td>\n",
       "      <td>0.002108</td>\n",
       "      <td>(128, 128)</td>\n",
       "      <td>adaptive</td>\n",
       "      <td>0.01</td>\n",
       "      <td>1</td>\n",
       "      <td>{'hidden_layer_sizes': (128, 128), 'learning_r...</td>\n",
       "      <td>-8.366138</td>\n",
       "      <td>...</td>\n",
       "      <td>-4.480881</td>\n",
       "      <td>-3.842231</td>\n",
       "      <td>-6.249382</td>\n",
       "      <td>-7.899447</td>\n",
       "      <td>-2.530365</td>\n",
       "      <td>-5.651251</td>\n",
       "      <td>-3.731872</td>\n",
       "      <td>-5.060503</td>\n",
       "      <td>2.053199</td>\n",
       "      <td>10</td>\n",
       "    </tr>\n",
       "    <tr>\n",
       "      <th>1</th>\n",
       "      <td>0.040112</td>\n",
       "      <td>0.003918</td>\n",
       "      <td>0.001439</td>\n",
       "      <td>0.002959</td>\n",
       "      <td>(128, 128)</td>\n",
       "      <td>adaptive</td>\n",
       "      <td>0.01</td>\n",
       "      <td>2</td>\n",
       "      <td>{'hidden_layer_sizes': (128, 128), 'learning_r...</td>\n",
       "      <td>-3.890892</td>\n",
       "      <td>...</td>\n",
       "      <td>-2.819424</td>\n",
       "      <td>-4.888661</td>\n",
       "      <td>-1.725956</td>\n",
       "      <td>-5.976835</td>\n",
       "      <td>-2.608158</td>\n",
       "      <td>-4.872383</td>\n",
       "      <td>-4.004153</td>\n",
       "      <td>-3.923794</td>\n",
       "      <td>1.285458</td>\n",
       "      <td>9</td>\n",
       "    </tr>\n",
       "    <tr>\n",
       "      <th>2</th>\n",
       "      <td>0.078277</td>\n",
       "      <td>0.007852</td>\n",
       "      <td>0.0003</td>\n",
       "      <td>0.000458</td>\n",
       "      <td>(128, 128)</td>\n",
       "      <td>adaptive</td>\n",
       "      <td>0.01</td>\n",
       "      <td>4</td>\n",
       "      <td>{'hidden_layer_sizes': (128, 128), 'learning_r...</td>\n",
       "      <td>-1.243459</td>\n",
       "      <td>...</td>\n",
       "      <td>-0.874616</td>\n",
       "      <td>-0.857987</td>\n",
       "      <td>-0.756108</td>\n",
       "      <td>-2.153476</td>\n",
       "      <td>-1.075348</td>\n",
       "      <td>-0.873456</td>\n",
       "      <td>-1.236027</td>\n",
       "      <td>-1.132754</td>\n",
       "      <td>0.379026</td>\n",
       "      <td>8</td>\n",
       "    </tr>\n",
       "    <tr>\n",
       "      <th>3</th>\n",
       "      <td>0.149551</td>\n",
       "      <td>0.007783</td>\n",
       "      <td>0.002574</td>\n",
       "      <td>0.003141</td>\n",
       "      <td>(128, 128)</td>\n",
       "      <td>adaptive</td>\n",
       "      <td>0.01</td>\n",
       "      <td>8</td>\n",
       "      <td>{'hidden_layer_sizes': (128, 128), 'learning_r...</td>\n",
       "      <td>-0.065319</td>\n",
       "      <td>...</td>\n",
       "      <td>0.069735</td>\n",
       "      <td>0.076123</td>\n",
       "      <td>0.293573</td>\n",
       "      <td>-0.466788</td>\n",
       "      <td>0.047751</td>\n",
       "      <td>0.099599</td>\n",
       "      <td>-0.009864</td>\n",
       "      <td>0.005353</td>\n",
       "      <td>0.184731</td>\n",
       "      <td>7</td>\n",
       "    </tr>\n",
       "    <tr>\n",
       "      <th>4</th>\n",
       "      <td>0.392732</td>\n",
       "      <td>0.170337</td>\n",
       "      <td>0.002172</td>\n",
       "      <td>0.003326</td>\n",
       "      <td>(128, 128)</td>\n",
       "      <td>adaptive</td>\n",
       "      <td>0.01</td>\n",
       "      <td>16</td>\n",
       "      <td>{'hidden_layer_sizes': (128, 128), 'learning_r...</td>\n",
       "      <td>0.415642</td>\n",
       "      <td>...</td>\n",
       "      <td>0.258116</td>\n",
       "      <td>0.497845</td>\n",
       "      <td>0.517222</td>\n",
       "      <td>0.255256</td>\n",
       "      <td>0.252129</td>\n",
       "      <td>0.462157</td>\n",
       "      <td>0.271683</td>\n",
       "      <td>0.358351</td>\n",
       "      <td>0.100139</td>\n",
       "      <td>1</td>\n",
       "    </tr>\n",
       "    <tr>\n",
       "      <th>5</th>\n",
       "      <td>0.915278</td>\n",
       "      <td>0.289524</td>\n",
       "      <td>0.001958</td>\n",
       "      <td>0.003457</td>\n",
       "      <td>(128, 128)</td>\n",
       "      <td>adaptive</td>\n",
       "      <td>0.01</td>\n",
       "      <td>32</td>\n",
       "      <td>{'hidden_layer_sizes': (128, 128), 'learning_r...</td>\n",
       "      <td>0.326355</td>\n",
       "      <td>...</td>\n",
       "      <td>0.195293</td>\n",
       "      <td>0.487613</td>\n",
       "      <td>0.531721</td>\n",
       "      <td>0.290915</td>\n",
       "      <td>0.248228</td>\n",
       "      <td>0.328741</td>\n",
       "      <td>0.283555</td>\n",
       "      <td>0.345035</td>\n",
       "      <td>0.10074</td>\n",
       "      <td>2</td>\n",
       "    </tr>\n",
       "    <tr>\n",
       "      <th>6</th>\n",
       "      <td>1.622029</td>\n",
       "      <td>0.456441</td>\n",
       "      <td>0.00182</td>\n",
       "      <td>0.002763</td>\n",
       "      <td>(128, 128)</td>\n",
       "      <td>adaptive</td>\n",
       "      <td>0.01</td>\n",
       "      <td>64</td>\n",
       "      <td>{'hidden_layer_sizes': (128, 128), 'learning_r...</td>\n",
       "      <td>0.35123</td>\n",
       "      <td>...</td>\n",
       "      <td>0.189562</td>\n",
       "      <td>0.480721</td>\n",
       "      <td>0.479399</td>\n",
       "      <td>0.203273</td>\n",
       "      <td>0.27326</td>\n",
       "      <td>0.420349</td>\n",
       "      <td>0.295664</td>\n",
       "      <td>0.323747</td>\n",
       "      <td>0.111748</td>\n",
       "      <td>3</td>\n",
       "    </tr>\n",
       "    <tr>\n",
       "      <th>7</th>\n",
       "      <td>2.074365</td>\n",
       "      <td>0.755444</td>\n",
       "      <td>0.001337</td>\n",
       "      <td>0.001722</td>\n",
       "      <td>(128, 128)</td>\n",
       "      <td>adaptive</td>\n",
       "      <td>0.01</td>\n",
       "      <td>128</td>\n",
       "      <td>{'hidden_layer_sizes': (128, 128), 'learning_r...</td>\n",
       "      <td>0.352081</td>\n",
       "      <td>...</td>\n",
       "      <td>0.182804</td>\n",
       "      <td>0.537561</td>\n",
       "      <td>0.471922</td>\n",
       "      <td>-0.063065</td>\n",
       "      <td>0.168946</td>\n",
       "      <td>0.241863</td>\n",
       "      <td>0.188472</td>\n",
       "      <td>0.269005</td>\n",
       "      <td>0.160847</td>\n",
       "      <td>6</td>\n",
       "    </tr>\n",
       "    <tr>\n",
       "      <th>8</th>\n",
       "      <td>2.323366</td>\n",
       "      <td>1.061773</td>\n",
       "      <td>0.002051</td>\n",
       "      <td>0.002687</td>\n",
       "      <td>(128, 128)</td>\n",
       "      <td>adaptive</td>\n",
       "      <td>0.01</td>\n",
       "      <td>256</td>\n",
       "      <td>{'hidden_layer_sizes': (128, 128), 'learning_r...</td>\n",
       "      <td>0.275664</td>\n",
       "      <td>...</td>\n",
       "      <td>0.29915</td>\n",
       "      <td>0.353919</td>\n",
       "      <td>0.437851</td>\n",
       "      <td>-0.041776</td>\n",
       "      <td>0.29848</td>\n",
       "      <td>0.457444</td>\n",
       "      <td>0.324881</td>\n",
       "      <td>0.305369</td>\n",
       "      <td>0.128911</td>\n",
       "      <td>4</td>\n",
       "    </tr>\n",
       "    <tr>\n",
       "      <th>9</th>\n",
       "      <td>2.67058</td>\n",
       "      <td>0.978385</td>\n",
       "      <td>0.00115</td>\n",
       "      <td>0.00159</td>\n",
       "      <td>(128, 128)</td>\n",
       "      <td>adaptive</td>\n",
       "      <td>0.01</td>\n",
       "      <td>512</td>\n",
       "      <td>{'hidden_layer_sizes': (128, 128), 'learning_r...</td>\n",
       "      <td>0.362993</td>\n",
       "      <td>...</td>\n",
       "      <td>0.294662</td>\n",
       "      <td>0.493875</td>\n",
       "      <td>0.486825</td>\n",
       "      <td>-0.125229</td>\n",
       "      <td>0.23878</td>\n",
       "      <td>0.382214</td>\n",
       "      <td>0.28483</td>\n",
       "      <td>0.303631</td>\n",
       "      <td>0.163914</td>\n",
       "      <td>5</td>\n",
       "    </tr>\n",
       "  </tbody>\n",
       "</table>\n",
       "<p>10 rows × 22 columns</p>\n",
       "</div>"
      ],
      "text/plain": [
       "  mean_fit_time std_fit_time mean_score_time std_score_time  \\\n",
       "0      0.022571     0.011728        0.001388       0.002108   \n",
       "1      0.040112     0.003918        0.001439       0.002959   \n",
       "2      0.078277     0.007852          0.0003       0.000458   \n",
       "3      0.149551     0.007783        0.002574       0.003141   \n",
       "4      0.392732     0.170337        0.002172       0.003326   \n",
       "5      0.915278     0.289524        0.001958       0.003457   \n",
       "6      1.622029     0.456441         0.00182       0.002763   \n",
       "7      2.074365     0.755444        0.001337       0.001722   \n",
       "8      2.323366     1.061773        0.002051       0.002687   \n",
       "9       2.67058     0.978385         0.00115        0.00159   \n",
       "\n",
       "  param_hidden_layer_sizes param_learning_rate param_learning_rate_init  \\\n",
       "0               (128, 128)            adaptive                     0.01   \n",
       "1               (128, 128)            adaptive                     0.01   \n",
       "2               (128, 128)            adaptive                     0.01   \n",
       "3               (128, 128)            adaptive                     0.01   \n",
       "4               (128, 128)            adaptive                     0.01   \n",
       "5               (128, 128)            adaptive                     0.01   \n",
       "6               (128, 128)            adaptive                     0.01   \n",
       "7               (128, 128)            adaptive                     0.01   \n",
       "8               (128, 128)            adaptive                     0.01   \n",
       "9               (128, 128)            adaptive                     0.01   \n",
       "\n",
       "  param_max_iter                                             params  \\\n",
       "0              1  {'hidden_layer_sizes': (128, 128), 'learning_r...   \n",
       "1              2  {'hidden_layer_sizes': (128, 128), 'learning_r...   \n",
       "2              4  {'hidden_layer_sizes': (128, 128), 'learning_r...   \n",
       "3              8  {'hidden_layer_sizes': (128, 128), 'learning_r...   \n",
       "4             16  {'hidden_layer_sizes': (128, 128), 'learning_r...   \n",
       "5             32  {'hidden_layer_sizes': (128, 128), 'learning_r...   \n",
       "6             64  {'hidden_layer_sizes': (128, 128), 'learning_r...   \n",
       "7            128  {'hidden_layer_sizes': (128, 128), 'learning_r...   \n",
       "8            256  {'hidden_layer_sizes': (128, 128), 'learning_r...   \n",
       "9            512  {'hidden_layer_sizes': (128, 128), 'learning_r...   \n",
       "\n",
       "  split0_test_score  ... split3_test_score split4_test_score  \\\n",
       "0         -8.366138  ...         -4.480881         -3.842231   \n",
       "1         -3.890892  ...         -2.819424         -4.888661   \n",
       "2         -1.243459  ...         -0.874616         -0.857987   \n",
       "3         -0.065319  ...          0.069735          0.076123   \n",
       "4          0.415642  ...          0.258116          0.497845   \n",
       "5          0.326355  ...          0.195293          0.487613   \n",
       "6           0.35123  ...          0.189562          0.480721   \n",
       "7          0.352081  ...          0.182804          0.537561   \n",
       "8          0.275664  ...           0.29915          0.353919   \n",
       "9          0.362993  ...          0.294662          0.493875   \n",
       "\n",
       "  split5_test_score split6_test_score split7_test_score split8_test_score  \\\n",
       "0         -6.249382         -7.899447         -2.530365         -5.651251   \n",
       "1         -1.725956         -5.976835         -2.608158         -4.872383   \n",
       "2         -0.756108         -2.153476         -1.075348         -0.873456   \n",
       "3          0.293573         -0.466788          0.047751          0.099599   \n",
       "4          0.517222          0.255256          0.252129          0.462157   \n",
       "5          0.531721          0.290915          0.248228          0.328741   \n",
       "6          0.479399          0.203273           0.27326          0.420349   \n",
       "7          0.471922         -0.063065          0.168946          0.241863   \n",
       "8          0.437851         -0.041776           0.29848          0.457444   \n",
       "9          0.486825         -0.125229           0.23878          0.382214   \n",
       "\n",
       "  split9_test_score mean_test_score std_test_score rank_test_score  \n",
       "0         -3.731872       -5.060503       2.053199              10  \n",
       "1         -4.004153       -3.923794       1.285458               9  \n",
       "2         -1.236027       -1.132754       0.379026               8  \n",
       "3         -0.009864        0.005353       0.184731               7  \n",
       "4          0.271683        0.358351       0.100139               1  \n",
       "5          0.283555        0.345035        0.10074               2  \n",
       "6          0.295664        0.323747       0.111748               3  \n",
       "7          0.188472        0.269005       0.160847               6  \n",
       "8          0.324881        0.305369       0.128911               4  \n",
       "9           0.28483        0.303631       0.163914               5  \n",
       "\n",
       "[10 rows x 22 columns]"
      ]
     },
     "execution_count": 18,
     "metadata": {},
     "output_type": "execute_result"
    }
   ],
   "source": [
    "res = pd.DataFrame(grid.cv_results_.values(), ).transpose()\n",
    "res.columns=grid.cv_results_.keys()\n",
    "res"
   ]
  },
  {
   "cell_type": "markdown",
   "metadata": {},
   "source": [
    "<div class=\"alert alert-info\">\n",
    "    \n",
    "**Remark:**\n",
    "\n",
    "Making an exhaustive search among all possible hyperparameters with GridSearch is not always feasible. The number of models to train grows exponentially with the number of hyperparameters you might want to test which causes problems for expensive models that take long training times. We strongly invite you to have a look into the sklearn library for alternatives to brute force parameter search. There are other ways to avoid overfitting and obtain better generalization performances such as regularization or pruning.\n",
    "    \n",
    "    \n",
    "</div>"
   ]
  }
 ],
 "metadata": {
  "kernelspec": {
   "display_name": "Python 3",
   "language": "python",
   "name": "python3"
  },
  "language_info": {
   "codemirror_mode": {
    "name": "ipython",
    "version": 3
   },
   "file_extension": ".py",
   "mimetype": "text/x-python",
   "name": "python",
   "nbconvert_exporter": "python",
   "pygments_lexer": "ipython3",
   "version": "3.12.7"
  }
 },
 "nbformat": 4,
 "nbformat_minor": 4
}
